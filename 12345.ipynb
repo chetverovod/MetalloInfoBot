{
 "cells": [
  {
   "cell_type": "markdown",
   "metadata": {},
   "source": [
    "### Импорты"
   ]
  },
  {
   "cell_type": "code",
   "execution_count": 1,
   "metadata": {},
   "outputs": [],
   "source": [
    "from src.chain_of_thoughts import Chain_of_thoughts\n",
    "from src.vbd_api import Chromadb_api\n",
    "#from src.llama_model_api import Llama_api\n",
    "from src.ollama_model_api import Llama_api\n",
    "#from src.gigachat_api import Giga_chat"
   ]
  },
  {
   "cell_type": "markdown",
   "metadata": {},
   "source": [
    "### Цепь рассуждений"
   ]
  },
  {
   "cell_type": "code",
   "execution_count": 2,
   "metadata": {},
   "outputs": [],
   "source": [
    "class Answer_generator(Chain_of_thoughts, Llama_api, Chromadb_api):\n",
    "    pass\n",
    "#class Answer_generator(Chain_of_thoughts, Giga_chat, Chromadb_api):\n",
    "#    pass\n",
    "\n",
    "answer_generator = Answer_generator()"
   ]
  },
  {
   "cell_type": "code",
   "execution_count": 3,
   "metadata": {},
   "outputs": [
    {
     "name": "stdout",
     "output_type": "stream",
     "text": [
      "Answer: ГОСТ 19281-2014\n",
      "Start Answer: Таблица\n",
      "find_by_tables_meta Answer\n",
      "[{'gost_num': '19281'}, {'type': 'table_meta'}]\n",
      "emb_models/\n",
      "navec_hudlit_v1_12B_500K_300d_100q.tar\n"
     ]
    },
    {
     "name": "stderr",
     "output_type": "stream",
     "text": [
      "/home/igor/Plastov/MetalloInfoBot/venv/lib/python3.11/site-packages/slovnet/model/emb.py:46: UserWarning: The given NumPy array is not writable, and PyTorch does not support non-writable tensors. This means writing to this tensor will result in undefined behavior. You may want to copy the array to protect its data or make it writable before converting it to a tensor. This type of warning will be suppressed for the rest of this program. (Triggered internally at ../torch/csrc/utils/tensor_numpy.cpp:206.)\n",
      "  torch.from_numpy(navec.pq.indexes),\n"
     ]
    },
    {
     "name": "stdout",
     "output_type": "stream",
     "text": [
      "Температура испытания, °С: +20±2; Метод определения: по шарикам стальных с уширением в результате удара; Количество образцов для определения: не менее 3 штук; Границы для испытания: до 10,0 включ. Н/мм².\n"
     ]
    }
   ],
   "source": [
    "answer_generator.start(\"Какие границы для испытания на временное сопротивление для широкополосного проката (базовое исполнение), марка стали 09Г2С, толщина проката 25, класс прочности 325, категория 12 для ГОСТ 19281-2014?\")"
   ]
  }
 ],
 "metadata": {
  "kernelspec": {
   "display_name": "venv",
   "language": "python",
   "name": "python3"
  },
  "language_info": {
   "codemirror_mode": {
    "name": "ipython",
    "version": 3
   },
   "file_extension": ".py",
   "mimetype": "text/x-python",
   "name": "python",
   "nbconvert_exporter": "python",
   "pygments_lexer": "ipython3",
   "version": "3.11.4"
  }
 },
 "nbformat": 4,
 "nbformat_minor": 2
}
